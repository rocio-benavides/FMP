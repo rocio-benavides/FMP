{
 "cells": [
  {
   "cell_type": "markdown",
   "metadata": {},
   "source": [
    "# Random Forest\n",
    "\n",
    "This notebook contains the code, results, and interpretation of fitting a Random Forest model to predict the pathological response to neoadjuvant chemoradiation of a cohort of 49 patients with locally advanced rectal cancer.\n"
   ]
  },
  {
   "cell_type": "code",
   "execution_count": 1,
   "metadata": {},
   "outputs": [],
   "source": [
    "import pandas as pd\n",
    "import numpy as np\n",
    "import os\n",
    "import matplotlib.pyplot as plt\n",
    "\n",
    "from imblearn.over_sampling import SMOTE\n",
    "from collections import Counter\n",
    "\n",
    "from sklearn.preprocessing import StandardScaler\n",
    "from sklearn.decomposition import PCA\n",
    "\n",
    "from sklearn.ensemble import RandomForestClassifier\n",
    "from sklearn.model_selection import GridSearchCV, KFold\n",
    "from sklearn.metrics import accuracy_score\n",
    "from sklearn.metrics import precision_score\n",
    "from sklearn.metrics import recall_score\n",
    "from sklearn.metrics import confusion_matrix\n",
    "from sklearn.metrics import ConfusionMatrixDisplay\n",
    "from sklearn.metrics import f1_score\n",
    "from sklearn.metrics import roc_curve\n",
    "from sklearn.metrics import roc_auc_score\n",
    "from sklearn.model_selection import train_test_split\n",
    "from sklearn.model_selection import RandomizedSearchCV\n",
    "import seaborn as sns"
   ]
  },
  {
   "cell_type": "code",
   "execution_count": 2,
   "metadata": {},
   "outputs": [],
   "source": [
    "if not os.path.exists('results/01_RandomForest'):\n",
    "    os.makedirs('results/01_RandomForest')"
   ]
  },
  {
   "cell_type": "markdown",
   "metadata": {},
   "source": [
    "## Data reading\n",
    "The selected data is read according to the results from the notebook `01_variable_selection`, which contain 39 cases labeled as `1` for non-complete response and 10 cases labeled as `0` for complete response."
   ]
  },
  {
   "cell_type": "code",
   "execution_count": 3,
   "metadata": {},
   "outputs": [
    {
     "data": {
      "text/html": [
       "<div>\n",
       "<style scoped>\n",
       "    .dataframe tbody tr th:only-of-type {\n",
       "        vertical-align: middle;\n",
       "    }\n",
       "\n",
       "    .dataframe tbody tr th {\n",
       "        vertical-align: top;\n",
       "    }\n",
       "\n",
       "    .dataframe thead th {\n",
       "        text-align: right;\n",
       "    }\n",
       "</style>\n",
       "<table border=\"1\" class=\"dataframe\">\n",
       "  <thead>\n",
       "    <tr style=\"text-align: right;\">\n",
       "      <th></th>\n",
       "      <th>VolumeNum</th>\n",
       "      <th>GrayLevelNonUniformityNormalized.1</th>\n",
       "      <th>Elongation</th>\n",
       "      <th>InterquartileRange</th>\n",
       "      <th>SizeZoneNonUniformityNormalized</th>\n",
       "      <th>SmallAreaEmphasis</th>\n",
       "      <th>Strength</th>\n",
       "      <th>SurfaceVolumeRatio</th>\n",
       "      <th>Edad</th>\n",
       "      <th>Genero</th>\n",
       "      <th>Localización</th>\n",
       "      <th>N_clinico</th>\n",
       "      <th>Invasion_mesorecto</th>\n",
       "      <th>CEA_basal</th>\n",
       "    </tr>\n",
       "  </thead>\n",
       "  <tbody>\n",
       "    <tr>\n",
       "      <th>0</th>\n",
       "      <td>1</td>\n",
       "      <td>0.026988</td>\n",
       "      <td>0.511936</td>\n",
       "      <td>197.0</td>\n",
       "      <td>0.444987</td>\n",
       "      <td>0.693348</td>\n",
       "      <td>0.882716</td>\n",
       "      <td>0.134019</td>\n",
       "      <td>64</td>\n",
       "      <td>0</td>\n",
       "      <td>0</td>\n",
       "      <td>1</td>\n",
       "      <td>1</td>\n",
       "      <td>0</td>\n",
       "    </tr>\n",
       "    <tr>\n",
       "      <th>1</th>\n",
       "      <td>1</td>\n",
       "      <td>0.061615</td>\n",
       "      <td>0.700567</td>\n",
       "      <td>111.0</td>\n",
       "      <td>0.328651</td>\n",
       "      <td>0.592024</td>\n",
       "      <td>1.579438</td>\n",
       "      <td>0.145663</td>\n",
       "      <td>72</td>\n",
       "      <td>0</td>\n",
       "      <td>1</td>\n",
       "      <td>2</td>\n",
       "      <td>1</td>\n",
       "      <td>0</td>\n",
       "    </tr>\n",
       "    <tr>\n",
       "      <th>2</th>\n",
       "      <td>1</td>\n",
       "      <td>0.043117</td>\n",
       "      <td>0.728945</td>\n",
       "      <td>97.0</td>\n",
       "      <td>0.397054</td>\n",
       "      <td>0.654634</td>\n",
       "      <td>2.444571</td>\n",
       "      <td>0.133402</td>\n",
       "      <td>68</td>\n",
       "      <td>0</td>\n",
       "      <td>0</td>\n",
       "      <td>1</td>\n",
       "      <td>0</td>\n",
       "      <td>1</td>\n",
       "    </tr>\n",
       "    <tr>\n",
       "      <th>3</th>\n",
       "      <td>1</td>\n",
       "      <td>0.026388</td>\n",
       "      <td>0.861587</td>\n",
       "      <td>802.0</td>\n",
       "      <td>0.541238</td>\n",
       "      <td>0.763957</td>\n",
       "      <td>0.398438</td>\n",
       "      <td>0.097681</td>\n",
       "      <td>65</td>\n",
       "      <td>0</td>\n",
       "      <td>1</td>\n",
       "      <td>0</td>\n",
       "      <td>0</td>\n",
       "      <td>0</td>\n",
       "    </tr>\n",
       "    <tr>\n",
       "      <th>4</th>\n",
       "      <td>1</td>\n",
       "      <td>0.032382</td>\n",
       "      <td>0.776489</td>\n",
       "      <td>111.0</td>\n",
       "      <td>0.436163</td>\n",
       "      <td>0.686958</td>\n",
       "      <td>0.987403</td>\n",
       "      <td>0.119279</td>\n",
       "      <td>72</td>\n",
       "      <td>1</td>\n",
       "      <td>1</td>\n",
       "      <td>1</td>\n",
       "      <td>0</td>\n",
       "      <td>0</td>\n",
       "    </tr>\n",
       "  </tbody>\n",
       "</table>\n",
       "</div>"
      ],
      "text/plain": [
       "   VolumeNum  GrayLevelNonUniformityNormalized.1  Elongation  \\\n",
       "0          1                            0.026988    0.511936   \n",
       "1          1                            0.061615    0.700567   \n",
       "2          1                            0.043117    0.728945   \n",
       "3          1                            0.026388    0.861587   \n",
       "4          1                            0.032382    0.776489   \n",
       "\n",
       "   InterquartileRange  SizeZoneNonUniformityNormalized  SmallAreaEmphasis  \\\n",
       "0               197.0                         0.444987           0.693348   \n",
       "1               111.0                         0.328651           0.592024   \n",
       "2                97.0                         0.397054           0.654634   \n",
       "3               802.0                         0.541238           0.763957   \n",
       "4               111.0                         0.436163           0.686958   \n",
       "\n",
       "   Strength  SurfaceVolumeRatio  Edad  Genero  Localización  N_clinico  \\\n",
       "0  0.882716            0.134019    64       0             0          1   \n",
       "1  1.579438            0.145663    72       0             1          2   \n",
       "2  2.444571            0.133402    68       0             0          1   \n",
       "3  0.398438            0.097681    65       0             1          0   \n",
       "4  0.987403            0.119279    72       1             1          1   \n",
       "\n",
       "   Invasion_mesorecto  CEA_basal  \n",
       "0                   1          0  \n",
       "1                   1          0  \n",
       "2                   0          1  \n",
       "3                   0          0  \n",
       "4                   0          0  "
      ]
     },
     "execution_count": 3,
     "metadata": {},
     "output_type": "execute_result"
    }
   ],
   "source": [
    "# Read data and get response\n",
    "data = pd.read_csv(\"data/selected_features.csv\")\n",
    "response = data['response']\n",
    "data = data.drop(['response'], axis=1)\n",
    "data.head()"
   ]
  },
  {
   "cell_type": "markdown",
   "metadata": {},
   "source": [
    "## *Oversampling* using SMOTE\n",
    "\n",
    "Using the SMOTE technique, oversampling of the minority category will be performed to balance both categories in the response variable. This technique involves synthesizing new data for the minority category from existing data by using an interpolation algorithm between neighboring points. This approach increases the number of data points in the minority category without directly duplicating them, which helps improve the model's performance in classifying that category.\n"
   ]
  },
  {
   "cell_type": "code",
   "execution_count": 4,
   "metadata": {},
   "outputs": [
    {
     "name": "stdout",
     "output_type": "stream",
     "text": [
      "Counter({1: 39, 0: 39})\n"
     ]
    }
   ],
   "source": [
    "# Oversample data (repeat until no NA is produced)\n",
    "smote = SMOTE(random_state=666, k_neighbors=6)\n",
    "while True:\n",
    "    data, response = smote.fit_resample(data, response)\n",
    "    idx_na = data.isna().any(axis=1)\n",
    "    if idx_na.any():\n",
    "        data = data.loc[~ idx_na, :].reset_index(drop=True)\n",
    "        response = response[~ idx_na].reset_index(drop=True)\n",
    "    else:\n",
    "        break\n",
    "# Check that the oversampling has worked\n",
    "print(Counter(response))"
   ]
  },
  {
   "cell_type": "markdown",
   "metadata": {},
   "source": [
    "\n",
    "After performing the oversampling, an exploratory PCA is conducted to verify that the structure of the data has been maintained.\n"
   ]
  },
  {
   "cell_type": "code",
   "execution_count": 5,
   "metadata": {},
   "outputs": [
    {
     "data": {
      "image/png": "[encoded data removed]",
      "text/plain": [
       "<Figure size 720x720 with 1 Axes>"
      ]
     },
     "metadata": {
      "needs_background": "light"
     },
     "output_type": "display_data"
    }
   ],
   "source": [
    "# Fit PCA to see data structure\n",
    "scaler = StandardScaler()\n",
    "data_scaled = scaler.fit_transform(data)\n",
    "data_scaled = pd.DataFrame(data, columns=data.columns)\n",
    "\n",
    "# PCA\n",
    "pca = PCA(n_components=2)\n",
    "pca_fit = pca.fit_transform(data_scaled)\n",
    "pca_fit_df = pd.DataFrame(data = pca_fit,\n",
    "                          columns = ['principal component 1',\n",
    "                                     'principal component 2'])\n",
    "pca_fit_df['response'] = response\n",
    "\n",
    "fig = plt.figure(figsize = (10,10))\n",
    "ax = fig.add_subplot(1,1,1) \n",
    "ax.set_xlabel('PC 1', fontsize = 12)\n",
    "ax.set_ylabel('PC 2', fontsize = 12)\n",
    "ax.set_title('PCA biplot', fontsize = 15)\n",
    "diags=[0,1]\n",
    "colors=['r','b']\n",
    "for diag, color in zip(diags,colors):\n",
    "    i = pca_fit_df['response'] == diag\n",
    "    ax.scatter(pca_fit_df.loc[i, 'principal component 1']\n",
    "               , pca_fit_df.loc[i, 'principal component 2']\n",
    "               , c = color\n",
    "               , s = 50)\n",
    "ax.legend(diags)\n",
    "ax.grid()"
   ]
  },
  {
   "cell_type": "markdown",
   "metadata": {},
   "source": [
    "## Random Forest Fitting\n",
    "\n",
    "First, the data is split into training and test subsets with a 0.75:0.25 ratio. This ensures that the model is trained on a significant amount of data while having an independent dataset available to evaluate its performance later. This division is a common practice in machine learning, as it provides a reliable estimate of the model's generalization to new, unseen data during training."
   ]
  },
  {
   "cell_type": "code",
   "execution_count": 6,
   "metadata": {},
   "outputs": [],
   "source": [
    "# Train test split\n",
    "X_train, X_test, y_train, y_test = train_test_split(data, response,\n",
    "                                                    random_state = 123,\n",
    "                                                    test_size = 0.25)"
   ]
  },
  {
   "cell_type": "markdown",
   "metadata": {},
   "source": [
    "### Optimal Hyperparameter Search\n",
    "\n",
    "Through grid search, an attempt is made to optimize the hyperparameters of the random forest to find the configuration that maximizes the model's performance. Grid search systematically explores all possible combinations of specified hyperparameter values, training a model for each combination and evaluating its performance on a validation dataset.\n",
    "\n",
    "For random forest, some of the most important hyperparameters to optimize for maximizing model performance are:\n",
    "\n",
    "  * `n_estimators`: This hyperparameter determines the number \n",
    "      of decision trees to be included in the forest. A higher \n",
    "      number of trees generally improves the model's accuracy, \n",
    "      but it can also increase training and execution time. \n",
    "      It is recommended to start with a low value (e.g., 100) \n",
    "      and gradually increase it until the optimal value is found.\n",
    "  * `max_depth`: This hyperparameter controls the complexity of \n",
    "      each decision tree. A higher value allows the model to capture \n",
    "      more complex patterns in the data, but it can also increase \n",
    "      the risk of overfitting. It is recommended to start with a \n",
    "      low value (e.g., 5) and gradually increase it until the \n",
    "      optimal value is found.\n",
    "  * `min_samples_split`: This hyperparameter indicates the minimum \n",
    "      number of samples required to consider a split in a decision \n",
    "      tree. A higher value can improve the model's accuracy but may \n",
    "      also increase training and execution time. It is recommended \n",
    "      to start with a low value (e.g., 2) and gradually increase it \n",
    "      until the optimal value is found.\n",
    "  * `min_samples_leaf`: This hyperparameter indicates the minimum \n",
    "      number of samples that must be in each leaf of a decision tree. \n",
    "      A higher value can improve the model's accuracy but may also \n",
    "      increase the risk of overfitting. It is recommended to start \n",
    "      with a low value (e.g., 1) and gradually increase it until the \n",
    "      optimal value is found.\n"
   ]
  },
  {
   "cell_type": "code",
   "execution_count": 7,
   "metadata": {},
   "outputs": [
    {
     "name": "stdout",
     "output_type": "stream",
     "text": [
      "Best hyperparameters: {'max_depth': None, 'min_samples_leaf': 1, 'min_samples_split': 2, 'n_estimators': 300}\n"
     ]
    }
   ],
   "source": [
    "# Hyperparameter tuning by grid search\n",
    "param_grid = {'n_estimators': [100, 200, 300],\n",
    "              'max_depth': [None, 5, 10],\n",
    "              'min_samples_split': [2, 5, 10],\n",
    "              'min_samples_leaf': [1, 5, 10]}\n",
    "grid_search = GridSearchCV(RandomForestClassifier(random_state=42),\n",
    "                           param_grid, cv=5, scoring='f1_macro')\n",
    "grid_search.fit(X_train, y_train)\n",
    "\n",
    "# Get best model and best model parameters\n",
    "best_model = grid_search.best_estimator_\n",
    "print('Best hyperparameters:',  grid_search.best_params_)"
   ]
  },
  {
   "cell_type": "markdown",
   "metadata": {},
   "source": [
    "The best random forest model has selected the following as the optimal hyperparameters:\n",
    "  * `max_depth`: None,\n",
    "  * `min_samples_leaf`: 1,\n",
    "  * `min_samples_split`: 2,\n",
    "  * `n_estimators`: 300\n",
    "  \n",
    "### Model Performance Metrics\n",
    "\n",
    "Using cross-validation techniques, the accuracy, precision, *recall*, and area under the curve (AUC) have been determined. These metrics provide valuable insights into the model's ability to generalize to new, unseen data during training.\n",
    "\n",
    "Specifically, the *k-fold cross-validation* method was used, with 10 folds. This technique involves dividing the dataset into k random subsets (10 in this case). The model is then trained k times, each time using a different subset as the validation set and the remaining subsets as the training set. Finally, the performance metrics obtained in each iteration are averaged to provide a more robust estimate of the model's overall performance"
   ]
  },
  {
   "cell_type": "code",
   "execution_count": 8,
   "metadata": {},
   "outputs": [
    {
     "name": "stdout",
     "output_type": "stream",
     "text": [
      "Accuracy: 0.896\n",
      "Precision: 0.872\n",
      "Recall: 0.875\n",
      "F1: 0.86\n",
      "AUC: 0.945\n"
     ]
    }
   ],
   "source": [
    "# Get metrics with the best model with k-fold cross validation\n",
    "kf = KFold(n_splits=10, shuffle=True, random_state=123)\n",
    "\n",
    "accuracy = []\n",
    "precision = []\n",
    "recall = []\n",
    "f1 = []\n",
    "auc = []\n",
    "confusion_matrices = []\n",
    "\n",
    "for train_index, val_index in kf.split(data,):\n",
    "    X_train_fold, X_val_fold = data.iloc[train_index], data.iloc[val_index]\n",
    "    y_train_fold, y_val_fold = response.iloc[train_index], response.iloc[val_index]\n",
    "    \n",
    "    best_model.fit(X_train_fold, y_train_fold)\n",
    "    y_pred = best_model.predict(X_val_fold)\n",
    "    y_pred_proba = best_model.predict_proba(X_val_fold)[:, 1]\n",
    "    \n",
    "    accuracy.append(accuracy_score(y_val_fold, y_pred))\n",
    "    precision.append(precision_score(y_val_fold, y_pred))\n",
    "    f1.append(f1_score(y_val_fold, y_pred))\n",
    "    recall.append(recall_score(y_val_fold, y_pred))\n",
    "    auc.append(roc_auc_score(y_val_fold, y_pred_proba))\n",
    "    confusion_matrices.append(confusion_matrix(y_val_fold, y_pred))\n",
    "\n",
    "print(\"Accuracy:\", np.round(np.mean(accuracy), 3))\n",
    "print(\"Precision:\", np.round(np.mean(precision), 3))\n",
    "print(\"Recall:\", np.round(np.mean(recall), 3))\n",
    "print(\"F1:\", np.round(np.mean(f1), 3))\n",
    "print(\"AUC:\", np.round(np.mean(auc), 3))"
   ]
  },
  {
   "cell_type": "code",
   "execution_count": 9,
   "metadata": {},
   "outputs": [
    {
     "data": {
      "image/png": "[encoded data removed]",
      "text/plain": [
       "<Figure size 432x288 with 1 Axes>"
      ]
     },
     "metadata": {
      "needs_background": "light"
     },
     "output_type": "display_data"
    }
   ],
   "source": [
    "# Determinar y representar el AUC\n",
    "fpr, tpr, _ = roc_curve(y_test, best_model.predict(X_test))\n",
    "plt.plot(fpr, tpr, color='darkorange', lw=2, label='ROC')\n",
    "plt.plot([0, 1], [0, 1], color='navy', lw=2, linestyle='--')\n",
    "plt.xlim([-0.05, 1.0])\n",
    "plt.ylim([0.0, 1.05])\n",
    "plt.xlabel('False Positive Rate')\n",
    "plt.ylabel('True Positive Rate')\n",
    "plt.title('Average Receiver Operating Characteristic')\n",
    "plt.legend(loc=\"lower right\")\n",
    "plt.text(0.8, 0.15, f'AUC: {np.mean(auc):.2f}', fontsize=12)\n",
    "plt.savefig('results/01_RandomForest/roc_curve.png', dpi=300,\n",
    "            bbox_inches='tight')\n",
    "plt.show()"
   ]
  },
  {
   "cell_type": "code",
   "execution_count": 10,
   "metadata": {},
   "outputs": [
    {
     "data": {
      "image/png": "[encoded data removed]",
      "text/plain": [
       "<Figure size 576x432 with 2 Axes>"
      ]
     },
     "metadata": {
      "needs_background": "light"
     },
     "output_type": "display_data"
    }
   ],
   "source": [
    "# Representar la matriz de confusión promedio\n",
    "confusion_matrix_mean = np.mean(confusion_matrices, axis=0)\n",
    "plt.figure(figsize=(8, 6))\n",
    "sns.heatmap(confusion_matrix_mean, annot=True, cmap='Blues')\n",
    "plt.xlabel('Predicted')\n",
    "plt.ylabel('Actual')\n",
    "plt.title('Average confussion matrix')\n",
    "plt.savefig('results/01_RandomForest/confussion_matrix.png', dpi=300,\n",
    "            bbox_inches='tight')\n",
    "plt.show()"
   ]
  },
  {
   "cell_type": "markdown",
   "metadata": {},
   "source": [
    "Overall, the performance metrics for the selected hyperparameters indicate that the model performs well, with an accuracy of 89.6%, precision of 87.2%, recall of 87.5%, and an AUC of 0.945. The F1 score is 0.86.\n",
    "\n",
    "These results suggest that the model can classify instances in the dataset with a high degree of reliability. The precision and recall, in particular, show that the model is effective both in correctly identifying positive cases and in avoiding false positives.\n",
    "\n",
    "However, the high AUC value (0.94) may indicate some level of overfitting. An AUC close to 1 can imply that the model is learning patterns that are too specific to the training dataset, which could negatively impact its performance on new, unseen data."
   ]
  },
  {
   "cell_type": "code",
   "execution_count": 11,
   "metadata": {},
   "outputs": [
    {
     "data": {
      "image/png": "[encoded data removed]",
      "text/plain": [
       "<Figure size 720x432 with 1 Axes>"
      ]
     },
     "metadata": {
      "needs_background": "light"
     },
     "output_type": "display_data"
    }
   ],
   "source": [
    "# Get variable importance\n",
    "feature_importances = best_model.feature_importances_\n",
    "feature_importances_df = pd.DataFrame({\n",
    "    'Variable': data.columns,\n",
    "    'Importance': feature_importances\n",
    "})\n",
    "feature_importances_df = feature_importances_df.sort_values(by='Importance',\n",
    "                                                            ascending=False)\n",
    "feature_importances_df.to_csv('results/01_RandomForest/var_imp.csv',\n",
    "                             index=False)\n",
    "\n",
    "# Plot\n",
    "plt.figure(figsize=(10, 6))\n",
    "plt.bar(feature_importances_df['Variable'],\n",
    "        feature_importances_df['Importance'])\n",
    "plt.xlabel('Variable')\n",
    "plt.ylabel('Importance')\n",
    "plt.title('Variable importance according to RF model')\n",
    "plt.xticks(rotation=90)\n",
    "plt.tight_layout()\n",
    "plt.savefig('results/01_RandomForest/var_imp.png', dpi=300,\n",
    "            bbox_inches='tight')\n",
    "plt.show()"
   ]
  },
  {
   "cell_type": "markdown",
   "metadata": {},
   "source": [
    "The figure shows the relative importance of the variables according to the *random forest* model. It is observed that the variables with the highest importance are`SurfaceVolumeRatio`, `Strength`,\n",
    "`InterquartileRange` y `Invasion_mesorecto`. Beyond these, the rest of the variables have similar importance, while `CEA_basal` has residual importance."
   ]
  }
 ],
 "metadata": {
  "kernelspec": {
   "display_name": "Python 3 (ipykernel)",
   "language": "python",
   "name": "python3"
  },
  "language_info": {
   "codemirror_mode": {
    "name": "ipython",
    "version": 3
   },
   "file_extension": ".py",
   "mimetype": "text/x-python",
   "name": "python",
   "nbconvert_exporter": "python",
   "pygments_lexer": "ipython3",
   "version": "3.11.5"
  }
 },
 "nbformat": 4,
 "nbformat_minor": 4
}
